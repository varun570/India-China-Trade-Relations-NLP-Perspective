{
  "nbformat": 4,
  "nbformat_minor": 0,
  "metadata": {
    "colab": {
      "provenance": []
    },
    "kernelspec": {
      "name": "python3",
      "display_name": "Python 3"
    },
    "language_info": {
      "name": "python"
    }
  },
  "cells": [
    {
      "cell_type": "code",
      "execution_count": null,
      "metadata": {
        "id": "2LIeJWTWinIT"
      },
      "outputs": [],
      "source": [
        "# Import necessary libraries\n",
        "import os\n",
        "import requests\n",
        "from bs4 import BeautifulSoup\n",
        "from transformers import AutoTokenizer, AutoModelForSeq2SeqLM\n",
        "from sklearn.feature_extraction.text import CountVectorizer\n",
        "from sklearn.decomposition import LatentDirichletAllocation\n",
        "from transformers import pipeline\n",
        "\n",
        "# Step 1: Data Collection\n",
        "def get_article_text(url):\n",
        "    response = requests.get(url)\n",
        "    soup = BeautifulSoup(response.text, 'html.parser')\n",
        "    paragraphs = soup.find_all('p')  # Adjust according to the HTML structure\n",
        "    return ' '.join([p.get_text() for p in paragraphs])\n",
        "\n",
        "# Example URLs\n",
        "article_urls = [\n",
        "    'https://www.thehindu.com/business/indiachina-trade-record-31-bn-deficit-in-2013/article5562569.ece',\n",
        "    'https://m.economictimes.com/news/economy/indicators/indias-october-trade-deficit-widens-to-26-91-billion/articleshow/95529500.cms',\n",
        "    'https://timesofindia.indiatimes.com/business/india-business/indias-trade-deficit-with-china-hits-100bn-for-first-time/articleshow/96979850.cms',\n",
        "    'https://www.thehindu.com/news/international/indias-imports-from-china-reach-record-high-in-2022-trade-deficit-surges-beyond-100-billion/article66372861.ece'\n",
        "]"
      ]
    },
    {
      "cell_type": "code",
      "source": [
        "# Collecting the articles from the given URLs\n",
        "articles = [get_article_text(url) for url in article_urls]"
      ],
      "metadata": {
        "id": "gKUx2m1njOKs"
      },
      "execution_count": null,
      "outputs": []
    },
    {
      "cell_type": "code",
      "source": [
        "# Data Preprocessing\n",
        "def save_to_txt(article, filename):\n",
        "    with open(filename, 'w', encoding='utf-8') as file:\n",
        "        print(filename)\n",
        "        file.write(article)"
      ],
      "metadata": {
        "id": "86Zih-A2jV_4"
      },
      "execution_count": null,
      "outputs": []
    },
    {
      "cell_type": "code",
      "source": [
        "# Save each article into a text file\n",
        "for i, article in enumerate(articles):\n",
        "    save_to_txt(article, f'article_{i+1}.txt')"
      ],
      "metadata": {
        "colab": {
          "base_uri": "https://localhost:8080/"
        },
        "id": "-6dt47eRjYcv",
        "outputId": "d07df543-3653-408b-b2d1-dd711fba45d5"
      },
      "execution_count": null,
      "outputs": [
        {
          "output_type": "stream",
          "name": "stdout",
          "text": [
            "article_1.txt\n",
            "article_2.txt\n",
            "article_3.txt\n",
            "article_4.txt\n"
          ]
        }
      ]
    },
    {
      "cell_type": "code",
      "source": [
        "articles"
      ],
      "metadata": {
        "colab": {
          "base_uri": "https://localhost:8080/"
        },
        "id": "-CoK8fXiqHof",
        "outputId": "daf3e2e4-3d37-45a6-a0f7-cb13fe8f4b87"
      },
      "execution_count": null,
      "outputs": [
        {
          "output_type": "execute_result",
          "data": {
            "text/plain": [
              "[\"To enjoy additional benefits CONNECT WITH US  January 10, 2014 07:19 pm | Updated November 16, 2021 09:26 pm IST - BEIJING  \\nCOMMents\\n  SHARE\\n \\nREAD LATER\\n \\nA file picture of entry gate at Nathu La which allow the Indian traders' vehicles enter China.\\n India’s trade deficit with China reached a record $ 31.4 billion in 2013, with two-way trade declining last year by 1.5 per cent on account of a sharp decline in Indian exports, new trade figures released in Beijing on Friday showed. Indian exports to China last year totalled $ 17.03 billion - a 9.4 per cent fall from last year - out of $ 65.47 total bilateral trade, according to figures released by the Chinese General Administration of Customs (GAC). Chinese exports to India, in recent years largely comprised of machinery, were up 1.6 per cent. Friday’s annual figures marked the second straight year of declines, highlighting the unexpected slowdown in rapidly growing trade ties that came to be seen as one of the key drivers of a relationship amid political uncertainties such as the long-running boundary dispute. Bilateral trade reached a record $ 74 billion in 2011, when China became India’s largest trading partner. Trade declined to $ 66.5 billion the following year, on account of the global slowdown and a 20 per cent drop in Indian exports. The fall in exports was largely due to curbs on the export of iron ore, which had emerged as India’s single biggest export to resource-hungry China. Friday’s data showed an overall recovery in China’s foreign trade outlook, recording 7.6 per cent year-on-year growth, although missing the government’s 8 per cent target. Despite the challenge from grim global demand and an appreciating currency, China’s exports grew 7.9 per cent to $ 2.21 trillion, the GAC said. \\nCOMMents\\n  SHARE\\n \\nexports\\n\\n/\\n\\ntrade balance\\n\\n/\\n\\nimports\\n BACK TO TOP Comments have to be in English, and in full sentences. They cannot be abusive or personal. Please abide by our community guidelines  for posting your comments.  We have migrated to a new commenting platform. If you are already a registered user of The Hindu and logged in, you may continue to engage with our articles. If you do not have an account please register and login to post comments. Users can access their older comments by logging into their accounts on Vuukle.\",\n",
              " 'Saturday, 25 Nov, 2023 One of the busiest weeks for India’s initial public offer (IPO) market ended on a euphoric note with investors pouring an unprecedented ₹2.6 lakh crore into five issues that aimed to collect ₹7,380 crore. The government has advised social media and internet intermediaries to “align” the terms of service on their platforms within the next seven days to alert users about the consequences of creating, uploading and sharing prohibited information including deepfake content or child sexual abuse material (CSAM), minister of state for electronics and IT Rajeev Chandrasekhar said Friday.  Wedding planner Mukta Kapoor recently had a client request an arrangement of locally grown nargis flowers (daffodils). And she’s not the only one. There’s a growing trend of Indians opting for domestic produce, as opposed to imported blooms. India’s increasing cultivation of exotic flowers such as orchids, carnations and tulips is meeting the rising demand. Regulations are also keeping overseas supplies in check. Download The Economic Times News App to get Daily Market Updates & Live Business News.  Unwinnable wars and the huge toll it takes on economic, humanitarian, and military domains SBI, Bajaj Fin, Axis Bank face the heat of unsecured lending norms. What should investors do next? Tax troubles: Swiggy and Zomato grapple with freshly served GST notice on delivery fee As US eases sanctions on Venezuela, India finds its next Russia to buy discounted oil YouTube ustads and Insta gurus: Novice stock traders turn to social media for guidance. Narayana Hrudayalaya’s shares are on a growth beat. What’s driving the hospital chain’s optimism? Kerala: Four dead, dozens injured in stampde Tunnel rescue: BSNL sets up landline facility EAM Jaishankar on the power of narrative PM shares in-flight view from Tejas jet Shotgun 650: Motoverse Edition at Rs 4.25 lakh U\\'kashi: \\'Until 1 month...\\', says Arnold Dix H9N2 outbreak in China: \\'Be careful\\' \\'RSS people working for Cong\\': Owaisi Biden says Gaza hostages release \\'only a start\\' Hamas releases 24 hostages on first day of truce POWERED BY Voltas Beko 8 Place Settings Table Top Dishwasher (DT8S, Silver, Inbuilt Heater) Lenovo IdeaPad Slim 3 Intel Core i3-1115G4 11th Gen 15.6\" (39.62cm) FHD Laptop (8GB/256GB SSD/Win 11/Office 2021/3 Month Game Pass/Arctic Grey/1.65Kg), 82H803TXIN 35% OFF IFB 30 L Convection Microwave Oven (30SC4, Metallic Silver), STANDARD 29% OFF Philips Ac1215/20 Air Purifier, Long Hepa Filter Life Upto 17000 Hours, Removes 99.97% Airborne Pollutants, 4-Stage Filtration with True Hepa Filter(White) 23% OFF HUL Pureit Eco Water Saver Mineral RO+UV+MF AS wall mounted/Counter top Black 10L Water Purifier 44% OFF Elica 60 cm 1200 m3/hr Filterless Autoclean Kitchen Chimney (FL 600 SLIM HAC MS NERO, Touch + Motion Sensor Control, Black) 56% OFF Trending Now Hot on Web In Case you missed it Top Calculators Top Commodities Top Slideshow Top Prime Articles Private Companies Top Searched Companies Top Videos Top Story Listing Top Definitions Top Market Pages Follow us on: Find this comment offensive? Choose your reason below and click on the Report button. This will alert our moderators to take action Reason for reporting: Your Reason has been Reported to the admin. Log In/Connect with: Will be displayed Will not be displayed Will be displayed Worry not. You’re just a step away. It seems like you\\'re already an ETPrime member with Login using your ET Prime credentials to enjoy all member benefits Log out of your current logged-in account  and log in again using your ET Prime credentials  to enjoy all member benefits.  To read full story, subscribe to ET Prime ₹34 per week \\n                    Billed annually at \\n                    ₹2499 ₹1749 Super Saver Sale - Flat 30% Off On ET Prime Membership   - - - Subscribe Now (Credit card mandatory) You can cancel your subscription anytime - - - Subscribe Now (Pay Using Netbanking/UPI/Debit Card)  ₹399/month Monthly\\n        \\t                        PLAN\\n        \\t                     Billed Amount ₹399 No Trial Period  ₹208/month (Save 49%) Yearly\\n        \\t                        PLAN\\n        \\t                     Billed Amount ₹2,499 15 \\n            \\t                                    Days Trial\\n            \\t                                +Includes DocuBay and TimesPrime Membership.  ₹150/month (Save 63%) 2-Year\\n        \\t                        PLAN\\n        \\t                     Billed Amount ₹3,599 15 \\n            \\t                                    Days Trial\\n            \\t                                +Includes DocuBay and TimesPrime Membership. Quarterly $13.99 7  Days Trial Yearly (Save 40.0%) $33.99 15  Days Trial Get ET Prime for just ₹2499 ₹1749/yr Offer Exclusively For You Save up to Rs. 700/- ON ET PRIME MEMBERSHIP Offer Exclusively For You Get 1 Year Free With 1 and 2-Year ET prime membership Offer Exclusively For You Get 1 Year Free With 1 and 2-Year ET prime membership Offer Exclusively For You Get Flat 40% Off Then  ₹ 1749 for 1 year Offer Exclusively For You ET Prime at ₹ 49 for 1 month Then  ₹ 1749 for 1 year Special Offer Upto 2500/- Off on ETPrime     Access the exclusive Economic Times stories, Editorial and Expert opinion Offer Exclusively For You Save up to Rs. 700/- ON ET PRIME MEMBERSHIP Offer Exclusively For You Get 1 Year Free With 1 and 2-Year ET prime membership Offer Exclusively For You Get 1 Year Free With 1 and 2-Year ET prime membership Offer Exclusively For You Get Flat 40% Off Then  ₹ 1749 for 1 year Offer Exclusively For You ET Prime at ₹ 49 for 1 month Then  ₹ 1749 for 1 year Special Offer Upto 2500/- Off on ETPrime     90 Days Prime access worth Rs999 unlocked for you Exclusive Economic Times Stories, Editorials & Expert opinion across 20+ sectors Stock analysis. Market Research. Industry Trends on 4000+ Stocks \\u200bGet 1 Year Complimentary Subscription of TOI+ worth Rs.799/-\\u200b Stories you might be interested in',\n",
              " '10 Most Affordable Cities in India to Buy a House Most Visited Monuments in India The Pros and Cons of Investing in Value Stocks Investing in Small-Cap Stocks: Top 10 Tips for Absolute Beginners 10 Ways to Earn Money Online by Selling Physical Products Richest Cricket Players Across the World 10 Things You Didnâ\\x80\\x99t Know About Warren Buffettâ\\x80\\x99s Investment Process Priyanka Chopra Net Worth: Know How Rich is Global Actress Top 10 Benefits of Investing in Small-Cap Stocks 15 Best Tax Saving Schemes in India A SIP calculator is a simple tool that allows individuals to get an idea of the returns on their This financial tool allows one to resolve their queries related to Public Provident Fund account. When investing in a fixed deposit, the amount you deposit earns interest as per the prevailing... The National Pension System or NPS is a measure to introduce a degree of financial stability... Mutual Funds are one of the most incredible investment strategies that offer better returns...',\n",
              " 'To enjoy additional benefits CONNECT WITH US  January 13, 2023 11:00 am | Updated 11:54 am IST - Beijing  \\nCOMMents\\n  SHARE\\n \\nREAD LATER\\n \\nPhoto used for representation purpose only.\\n India’s bilateral trade with China reached a record $135.98 billion in 2022, Chinese Customs data showed on January 13, 2023, driven by surging Indian imports of Chinese goods that were up by more than 21% last year. India’s exports to China, however, fell in 2022, driving an already significant trade deficit beyond the $100 billion-mark for the first time. Figures released by the General Administration of Customs (GAC) in Beijing on January 13, 2023 showed two-way trade was up by 8.4% last year to $135.98 billion, with India’s imports accounting for $118.5 billion, up from $97.5 billion.  India’s exports to China fell from $28.1 billion to $17.48 billion. The trade deficit reached $101.02 billion, up by 45%, from $69.4 billion in 2021. China’s total foreign trade in 2022 hit a record high, up 7.7% to $6.25 trillion. Exports were up 10.5%. Trade with ASEAN, China’s biggest trading partner, increased 11.2% to $975.34 billion. The EU ranked second among China’s trading partners, with trade up 2.4% to $847.32 billion, followed by the U.S., with trade up 0.6% to $759.42 billion. For India, trade last year has surpassed what was a record year in 2021, on account of a recovery in demand in India, increasing imports of intermediate goods, and imports of new categories of goods such as medical supplies. Analysts have seen India’s growing imports from China as both a worry, reflecting continued dependence for a range of key goods, but also, to some extent, as a positive indicator of the Indian economy importing more intermediate goods. The break-up of imports in 2022 wasn’t immediately released. In the past couple of years, India’s biggest imports from China included active pharmaceutical ingredients (APIs), chemicals, electrical and mechanical machinery, auto components, and medical supplies. \\nCOMMents\\n  SHARE\\n \\nIndia-China\\n\\n/\\n\\nChina\\n\\n/\\n\\ntrade balance\\n\\n/\\n\\neconomy, business and finance\\n BACK TO TOP Comments have to be in English, and in full sentences. They cannot be abusive or personal. Please abide by our community guidelines  for posting your comments.  We have migrated to a new commenting platform. If you are already a registered user of The Hindu and logged in, you may continue to engage with our articles. If you do not have an account please register and login to post comments. Users can access their older comments by logging into their accounts on Vuukle.']"
            ]
          },
          "metadata": {},
          "execution_count": 5
        }
      ]
    },
    {
      "cell_type": "code",
      "source": [
        "import re\n",
        "# Step 1: Data Preprocessing\n",
        "def preprocess_text(text):\n",
        "    # Remove non-alphanumeric characters and extra spaces\n",
        "    text = re.sub(r'\\W', ' ', text)\n",
        "    text = re.sub(r'\\s+', ' ', text)\n",
        "    return text.lower().strip()\n",
        "\n",
        "cleaned_articles = [preprocess_text(article) for article in articles]"
      ],
      "metadata": {
        "id": "GR4CCXFvrqVt"
      },
      "execution_count": null,
      "outputs": []
    },
    {
      "cell_type": "code",
      "source": [
        "cleaned_articles"
      ],
      "metadata": {
        "colab": {
          "base_uri": "https://localhost:8080/"
        },
        "id": "jep0nkcbrqcm",
        "outputId": "962106a0-7b6e-4341-a417-0a62ea88402b"
      },
      "execution_count": null,
      "outputs": [
        {
          "output_type": "execute_result",
          "data": {
            "text/plain": [
              "['to enjoy additional benefits connect with us january 10 2014 07 19 pm updated november 16 2021 09 26 pm ist beijing comments share read later a file picture of entry gate at nathu la which allow the indian traders vehicles enter china india s trade deficit with china reached a record 31 4 billion in 2013 with two way trade declining last year by 1 5 per cent on account of a sharp decline in indian exports new trade figures released in beijing on friday showed indian exports to china last year totalled 17 03 billion a 9 4 per cent fall from last year out of 65 47 total bilateral trade according to figures released by the chinese general administration of customs gac chinese exports to india in recent years largely comprised of machinery were up 1 6 per cent friday s annual figures marked the second straight year of declines highlighting the unexpected slowdown in rapidly growing trade ties that came to be seen as one of the key drivers of a relationship amid political uncertainties such as the long running boundary dispute bilateral trade reached a record 74 billion in 2011 when china became india s largest trading partner trade declined to 66 5 billion the following year on account of the global slowdown and a 20 per cent drop in indian exports the fall in exports was largely due to curbs on the export of iron ore which had emerged as india s single biggest export to resource hungry china friday s data showed an overall recovery in china s foreign trade outlook recording 7 6 per cent year on year growth although missing the government s 8 per cent target despite the challenge from grim global demand and an appreciating currency china s exports grew 7 9 per cent to 2 21 trillion the gac said comments share exports trade balance imports back to top comments have to be in english and in full sentences they cannot be abusive or personal please abide by our community guidelines for posting your comments we have migrated to a new commenting platform if you are already a registered user of the hindu and logged in you may continue to engage with our articles if you do not have an account please register and login to post comments users can access their older comments by logging into their accounts on vuukle',\n",
              " 'saturday 25 nov 2023 one of the busiest weeks for india s initial public offer ipo market ended on a euphoric note with investors pouring an unprecedented 2 6 lakh crore into five issues that aimed to collect 7 380 crore the government has advised social media and internet intermediaries to align the terms of service on their platforms within the next seven days to alert users about the consequences of creating uploading and sharing prohibited information including deepfake content or child sexual abuse material csam minister of state for electronics and it rajeev chandrasekhar said friday wedding planner mukta kapoor recently had a client request an arrangement of locally grown nargis flowers daffodils and she s not the only one there s a growing trend of indians opting for domestic produce as opposed to imported blooms india s increasing cultivation of exotic flowers such as orchids carnations and tulips is meeting the rising demand regulations are also keeping overseas supplies in check download the economic times news app to get daily market updates live business news unwinnable wars and the huge toll it takes on economic humanitarian and military domains sbi bajaj fin axis bank face the heat of unsecured lending norms what should investors do next tax troubles swiggy and zomato grapple with freshly served gst notice on delivery fee as us eases sanctions on venezuela india finds its next russia to buy discounted oil youtube ustads and insta gurus novice stock traders turn to social media for guidance narayana hrudayalaya s shares are on a growth beat what s driving the hospital chain s optimism kerala four dead dozens injured in stampde tunnel rescue bsnl sets up landline facility eam jaishankar on the power of narrative pm shares in flight view from tejas jet shotgun 650 motoverse edition at rs 4 25 lakh u kashi until 1 month says arnold dix h9n2 outbreak in china be careful rss people working for cong owaisi biden says gaza hostages release only a start hamas releases 24 hostages on first day of truce powered by voltas beko 8 place settings table top dishwasher dt8s silver inbuilt heater lenovo ideapad slim 3 intel core i3 1115g4 11th gen 15 6 39 62cm fhd laptop 8gb 256gb ssd win 11 office 2021 3 month game pass arctic grey 1 65kg 82h803txin 35 off ifb 30 l convection microwave oven 30sc4 metallic silver standard 29 off philips ac1215 20 air purifier long hepa filter life upto 17000 hours removes 99 97 airborne pollutants 4 stage filtration with true hepa filter white 23 off hul pureit eco water saver mineral ro uv mf as wall mounted counter top black 10l water purifier 44 off elica 60 cm 1200 m3 hr filterless autoclean kitchen chimney fl 600 slim hac ms nero touch motion sensor control black 56 off trending now hot on web in case you missed it top calculators top commodities top slideshow top prime articles private companies top searched companies top videos top story listing top definitions top market pages follow us on find this comment offensive choose your reason below and click on the report button this will alert our moderators to take action reason for reporting your reason has been reported to the admin log in connect with will be displayed will not be displayed will be displayed worry not you re just a step away it seems like you re already an etprime member with login using your et prime credentials to enjoy all member benefits log out of your current logged in account and log in again using your et prime credentials to enjoy all member benefits to read full story subscribe to et prime 34 per week billed annually at 2499 1749 super saver sale flat 30 off on et prime membership subscribe now credit card mandatory you can cancel your subscription anytime subscribe now pay using netbanking upi debit card 399 month monthly plan billed amount 399 no trial period 208 month save 49 yearly plan billed amount 2 499 15 days trial includes docubay and timesprime membership 150 month save 63 2 year plan billed amount 3 599 15 days trial includes docubay and timesprime membership quarterly 13 99 7 days trial yearly save 40 0 33 99 15 days trial get et prime for just 2499 1749 yr offer exclusively for you save up to rs 700 on et prime membership offer exclusively for you get 1 year free with 1 and 2 year et prime membership offer exclusively for you get 1 year free with 1 and 2 year et prime membership offer exclusively for you get flat 40 off then 1749 for 1 year offer exclusively for you et prime at 49 for 1 month then 1749 for 1 year special offer upto 2500 off on etprime access the exclusive economic times stories editorial and expert opinion offer exclusively for you save up to rs 700 on et prime membership offer exclusively for you get 1 year free with 1 and 2 year et prime membership offer exclusively for you get 1 year free with 1 and 2 year et prime membership offer exclusively for you get flat 40 off then 1749 for 1 year offer exclusively for you et prime at 49 for 1 month then 1749 for 1 year special offer upto 2500 off on etprime 90 days prime access worth rs999 unlocked for you exclusive economic times stories editorials expert opinion across 20 sectors stock analysis market research industry trends on 4000 stocks get 1 year complimentary subscription of toi worth rs 799 stories you might be interested in',\n",
              " '10 most affordable cities in india to buy a house most visited monuments in india the pros and cons of investing in value stocks investing in small cap stocks top 10 tips for absolute beginners 10 ways to earn money online by selling physical products richest cricket players across the world 10 things you didnâ t know about warren buffettâ s investment process priyanka chopra net worth know how rich is global actress top 10 benefits of investing in small cap stocks 15 best tax saving schemes in india a sip calculator is a simple tool that allows individuals to get an idea of the returns on their this financial tool allows one to resolve their queries related to public provident fund account when investing in a fixed deposit the amount you deposit earns interest as per the prevailing the national pension system or nps is a measure to introduce a degree of financial stability mutual funds are one of the most incredible investment strategies that offer better returns',\n",
              " 'to enjoy additional benefits connect with us january 13 2023 11 00 am updated 11 54 am ist beijing comments share read later photo used for representation purpose only india s bilateral trade with china reached a record 135 98 billion in 2022 chinese customs data showed on january 13 2023 driven by surging indian imports of chinese goods that were up by more than 21 last year india s exports to china however fell in 2022 driving an already significant trade deficit beyond the 100 billion mark for the first time figures released by the general administration of customs gac in beijing on january 13 2023 showed two way trade was up by 8 4 last year to 135 98 billion with india s imports accounting for 118 5 billion up from 97 5 billion india s exports to china fell from 28 1 billion to 17 48 billion the trade deficit reached 101 02 billion up by 45 from 69 4 billion in 2021 china s total foreign trade in 2022 hit a record high up 7 7 to 6 25 trillion exports were up 10 5 trade with asean china s biggest trading partner increased 11 2 to 975 34 billion the eu ranked second among china s trading partners with trade up 2 4 to 847 32 billion followed by the u s with trade up 0 6 to 759 42 billion for india trade last year has surpassed what was a record year in 2021 on account of a recovery in demand in india increasing imports of intermediate goods and imports of new categories of goods such as medical supplies analysts have seen india s growing imports from china as both a worry reflecting continued dependence for a range of key goods but also to some extent as a positive indicator of the indian economy importing more intermediate goods the break up of imports in 2022 wasn t immediately released in the past couple of years india s biggest imports from china included active pharmaceutical ingredients apis chemicals electrical and mechanical machinery auto components and medical supplies comments share india china china trade balance economy business and finance back to top comments have to be in english and in full sentences they cannot be abusive or personal please abide by our community guidelines for posting your comments we have migrated to a new commenting platform if you are already a registered user of the hindu and logged in you may continue to engage with our articles if you do not have an account please register and login to post comments users can access their older comments by logging into their accounts on vuukle']"
            ]
          },
          "metadata": {},
          "execution_count": 7
        }
      ]
    },
    {
      "cell_type": "markdown",
      "source": [
        "## Non-parametric Test\n",
        "For non-parametric tests, we used the Mann-Whitney U test to compare two independent samples. In this case, let's compare the lengths of the articles before and after cleaning. We'll use the scipy library for this test."
      ],
      "metadata": {
        "id": "FxsQe00m0idP"
      }
    },
    {
      "cell_type": "code",
      "source": [
        "from scipy.stats import mannwhitneyu\n",
        "\n",
        "# Non-parametric Test\n",
        "article_lengths_before = [len(article) for article in articles]\n",
        "article_lengths_after = [len(cleaned_article) for cleaned_article in cleaned_articles]\n",
        "\n",
        "stat, p_value = mannwhitneyu(article_lengths_before, article_lengths_after)\n",
        "print(f\"\\nMann-Whitney U Test p-value: {p_value}\")"
      ],
      "metadata": {
        "colab": {
          "base_uri": "https://localhost:8080/"
        },
        "id": "pJo8COHI0Z13",
        "outputId": "c1752e4a-ed18-42fc-c8fe-48fcec0452a0"
      },
      "execution_count": null,
      "outputs": [
        {
          "output_type": "stream",
          "name": "stdout",
          "text": [
            "\n",
            "Mann-Whitney U Test p-value: 0.6857142857142857\n"
          ]
        }
      ]
    },
    {
      "cell_type": "markdown",
      "source": [
        "The p-value obtained from the Mann-Whitney U test is 0.6857. The p-value is a probability value that helps us make a decision about the null hypothesis. Here's how to interpret the p-value:\n",
        "\n",
        "Null Hypothesis (H0): There is no significant difference between the lengths of the articles before and after cleaning.\n",
        "\n",
        "Alternative Hypothesis (H1): There is a significant difference between the lengths of the articles before and after cleaning.\n",
        "\n",
        "Interpretation:\n",
        "\n",
        "If the p-value is less than the significance level (commonly set at 0.05), we reject the null hypothesis, suggesting that there is a significant difference.\n",
        "If the p-value is greater than the significance level, we fail to reject the null hypothesis, indicating that there is not enough evidence to suggest a significant difference.\n",
        "\n",
        "Conclusion:\n",
        "\n",
        "In this case, the p-value is 0.6857, which is greater than 0.05. Therefore, we fail to reject the null hypothesis. This suggests that there is not enough evidence to conclude that there is a significant difference in the lengths of the articles before and after cleaning."
      ],
      "metadata": {
        "id": "GOpza37k03xO"
      }
    },
    {
      "cell_type": "code",
      "source": [
        "# Step 2: Corpus Creation\n",
        "corpus = ' '.join(cleaned_articles)\n",
        "\n",
        "# Step 3: Topic Modeling\n",
        "def perform_topic_modeling(articles):\n",
        "    vectorizer = CountVectorizer(stop_words='english')\n",
        "    X = vectorizer.fit_transform(articles)\n",
        "    lda = LatentDirichletAllocation(n_components=4, random_state=42)\n",
        "    lda.fit(X)\n",
        "    return lda, vectorizer"
      ],
      "metadata": {
        "id": "OlCEZZuirqg6"
      },
      "execution_count": null,
      "outputs": []
    },
    {
      "cell_type": "code",
      "source": [
        "lda_model, vectorizer = perform_topic_modeling(cleaned_articles)"
      ],
      "metadata": {
        "id": "1rfW8o0Jrqkd"
      },
      "execution_count": null,
      "outputs": []
    },
    {
      "cell_type": "code",
      "source": [
        "# Display Topics\n",
        "feature_names = vectorizer.get_feature_names_out()\n",
        "topics = [[feature_names[i] for i in topic.argsort()[:-5 - 1:-1]] for topic in lda_model.components_]\n",
        "print(\"Topics:\")\n",
        "for i, topic in enumerate(topics):\n",
        "    print(f\"Topic {i + 1}: {', '.join(topic)}\")"
      ],
      "metadata": {
        "colab": {
          "base_uri": "https://localhost:8080/"
        },
        "id": "RrbRMP2tnNq6",
        "outputId": "a1d81f5b-993c-48e2-8825-ad0900f1f697"
      },
      "execution_count": null,
      "outputs": [
        {
          "output_type": "stream",
          "name": "stdout",
          "text": [
            "Topics:\n",
            "Topic 1: global, 10, national, affordable, strategies\n",
            "Topic 2: trade, china, billion, india, comments\n",
            "Topic 3: prime, year, offer, et, exclusively\n",
            "Topic 4: global, 10, national, affordable, strategies\n"
          ]
        }
      ]
    },
    {
      "cell_type": "code",
      "source": [
        "# Step 4: Seq2Seq Summarization\n",
        "tokenizer = AutoTokenizer.from_pretrained('t5-base')\n",
        "seq2seq_model = AutoModelForSeq2SeqLM.from_pretrained('t5-base')"
      ],
      "metadata": {
        "colab": {
          "base_uri": "https://localhost:8080/"
        },
        "id": "yp5bzvjFr6rG",
        "outputId": "c63b28bb-af9e-4620-e89d-b23465bb3acf"
      },
      "execution_count": null,
      "outputs": [
        {
          "output_type": "stream",
          "name": "stderr",
          "text": [
            "/usr/local/lib/python3.10/dist-packages/transformers/models/t5/tokenization_t5_fast.py:160: FutureWarning: This tokenizer was incorrectly instantiated with a model max length of 512 which will be corrected in Transformers v5.\n",
            "For now, this behavior is kept to avoid breaking backwards compatibility when padding/encoding with `truncation is True`.\n",
            "- Be aware that you SHOULD NOT rely on t5-base automatically truncating your input to 512 when padding/encoding.\n",
            "- If you want to encode/pad to sequences longer than 512 you can either instantiate this tokenizer with `model_max_length` or pass `max_length` when encoding/padding.\n",
            "- To avoid this warning, please instantiate this tokenizer with `model_max_length` set to your preferred value.\n",
            "  warnings.warn(\n"
          ]
        }
      ]
    },
    {
      "cell_type": "code",
      "source": [
        "# Abstractive Summarization\n",
        "abstractive_summaries = []\n",
        "\n",
        "for article in cleaned_articles:\n",
        "    # Tokenize the cleaned text\n",
        "    tokenized_text = tokenizer(article, return_tensors='pt', max_length=512, truncation=True)\n",
        "\n",
        "    # Generate abstractive summaries\n",
        "    summary_ids = seq2seq_model.generate(\n",
        "        input_ids=tokenized_text['input_ids'],\n",
        "        max_length=150,\n",
        "        min_length=50,\n",
        "        length_penalty=2.0,\n",
        "        num_beams=4,\n",
        "        early_stopping=True\n",
        "    )\n",
        "\n",
        "    # Decode the summary and append to the list\n",
        "    summary_text = tokenizer.decode(summary_ids[0], skip_special_tokens=True)\n",
        "    abstractive_summaries.append(summary_text)"
      ],
      "metadata": {
        "id": "gLuE41YMr7gJ"
      },
      "execution_count": null,
      "outputs": []
    },
    {
      "cell_type": "code",
      "source": [
        "# Display the results\n",
        "for i, summary in enumerate(abstractive_summaries, start=1):\n",
        "    print(f\"\\nSummary for Article {i}:\\n\")\n",
        "\n",
        "    # Set the maximum number of characters per line\n",
        "    max_chars_per_line = 80\n",
        "\n",
        "    # Print the summary in lines with a maximum number of characters\n",
        "    lines = [summary[j:j+max_chars_per_line] for j in range(0, len(summary), max_chars_per_line)]\n",
        "    for line in lines:\n",
        "        print(line)"
      ],
      "metadata": {
        "colab": {
          "base_uri": "https://localhost:8080/"
        },
        "id": "-OfwEcotr7lU",
        "outputId": "9ac35f7f-aa8d-43a5-d9b2-4911b193cec0"
      },
      "execution_count": null,
      "outputs": [
        {
          "output_type": "stream",
          "name": "stdout",
          "text": [
            "\n",
            "Summary for Article 1:\n",
            "\n",
            "the gac said comments share read later a file picture of entry gate at nathu la \n",
            "which allow the indian traders vehicles enter china new trade figures released i\n",
            "n beijing on friday showed indian exports to china last year totalled 17 03 bill\n",
            "ion a 9 4 per cent fall from last year chinese exports to india grew 7 9 per cen\n",
            "t to 2 21 trillion the gac said comments share read later a file picture of entr\n",
            "y gate at nathu la which allow the indian traders\n",
            "\n",
            "Summary for Article 2:\n",
            "\n",
            "a client requested an arrangement of locally grown nargis flowers daffodils and \n",
            "tulips csam minister of state for electronics and it rajeev chandrasekhar said f\n",
            "riday wedding planner mukta kapoor recently had a client request an arrangement \n",
            "of locally grown nargis flowers daffodils and tulips csam minister of state for \n",
            "electronics and it rajeev chandrasekhar said friday \n",
            "\n",
            "Summary for Article 3:\n",
            "\n",
            "10 most affordable cities in india to buy a house most visited monuments in indi\n",
            "a the pros and cons of investing in value stocks investing in small cap stocks t\n",
            "he pros and cons of investing in small cap stocks the pros and cons of investing\n",
            " in small cap stocks the pros and cons of investing in small cap stocks the pros\n",
            " and cons of investing in small cap stocks the pros and cons of investing in sma\n",
            "ll cap stocks the pros and cons of investing in small cap stocks the pros and co\n",
            "ns of investing in small cap stocks the pros and cons of investing in small cap \n",
            "stocks the\n",
            "\n",
            "Summary for Article 4:\n",
            "\n",
            "trade with the eu ranked second among china s trading partners with trade up 0 6\n",
            " to 759 42 billion for the first time india s bilateral trade with china reached\n",
            " a record 135 98 billion in 2022 chinese customs data showed on january 13 2023 \n",
            "chinese customs data showed india s bilateral trade was up by 8 4 last year to 1\n",
            "35 98 billion in 2022 india s trade with china reached a record high of 135 98 b\n",
            "illion in\n"
          ]
        }
      ]
    },
    {
      "cell_type": "code",
      "source": [
        "from sklearn.decomposition import LatentDirichletAllocation\n",
        "from sklearn.feature_extraction.text import CountVectorizer\n",
        "from nltk.tokenize import sent_tokenize\n",
        "import numpy as np\n",
        "import pandas as pd\n",
        "\n",
        "import nltk\n",
        "nltk.download('punkt')\n",
        "\n",
        "# Function to tokenize and vectorize sentences\n",
        "def vectorize_sentences(sentences, vectorizer):\n",
        "    vectors = vectorizer.transform(sentences).toarray()\n",
        "    return vectors\n",
        "\n",
        "# Function to get extractive summaries using LDA\n",
        "def get_lda_extractive_summaries(text, vectorizer, lda_model, num_topics=3, num_sentences=3):\n",
        "    # Tokenize the text into sentences\n",
        "    sentences = sent_tokenize(text)\n",
        "\n",
        "    # Vectorize sentences using the pre-fitted CountVectorizer\n",
        "    sentence_vectors = vectorize_sentences(sentences, vectorizer)\n",
        "\n",
        "    # Apply Latent Dirichlet Allocation (LDA)\n",
        "    topics = lda_model.transform(sentence_vectors)\n",
        "\n",
        "    # Get the dominant topic for each sentence\n",
        "    dominant_topics = np.argmax(topics, axis=1)\n",
        "\n",
        "    # Calculate sentence scores based on topic dominance\n",
        "    sentence_scores = np.max(topics, axis=1)\n",
        "\n",
        "    # Rank sentences by their scores and select top sentences as extractive summary\n",
        "    ranked_sentences = pd.DataFrame({'Sentence': sentences, 'Score': sentence_scores, 'Topic': dominant_topics})\n",
        "    ranked_sentences = ranked_sentences.sort_values(by='Score', ascending=False).head(num_sentences)\n",
        "\n",
        "    # Combine selected sentences to form the extractive summary\n",
        "    extractive_summary = ' '.join(ranked_sentences['Sentence'].tolist())\n",
        "    return extractive_summary\n",
        "\n",
        "# Fit the CountVectorizer on all articles\n",
        "vectorizer = CountVectorizer(stop_words='english')\n",
        "vectorizer.fit(cleaned_articles)\n",
        "\n",
        "# Perform extractive summarization using LDA\n",
        "lda_model = LatentDirichletAllocation(n_components=3, random_state=42)\n",
        "lda_model.fit(vectorizer.transform(cleaned_articles))\n",
        "\n",
        "# Perform extractive summarization using LDA\n",
        "extractive_summaries_lda = [get_lda_extractive_summaries(article, vectorizer, lda_model) for article in cleaned_articles]"
      ],
      "metadata": {
        "colab": {
          "base_uri": "https://localhost:8080/"
        },
        "id": "IdwWtur90r5k",
        "outputId": "0f3c5179-c902-4db6-8e33-41bcad726c63"
      },
      "execution_count": null,
      "outputs": [
        {
          "output_type": "stream",
          "name": "stderr",
          "text": [
            "[nltk_data] Downloading package punkt to /root/nltk_data...\n",
            "[nltk_data]   Package punkt is already up-to-date!\n"
          ]
        }
      ]
    },
    {
      "cell_type": "code",
      "source": [
        "# Display the results\n",
        "for i, summary_extractive_lda in enumerate(extractive_summaries_lda, start=1):\n",
        "    print(f\"\\nArticle {i}:\\n\")\n",
        "\n",
        "    # Set the maximum number of characters per line\n",
        "    max_chars_per_line = 80\n",
        "\n",
        "    # Print the extractive summary in lines with a maximum number of characters\n",
        "    lines = [summary_extractive_lda[j:j+max_chars_per_line] for j in range(0, len(summary_extractive_lda), max_chars_per_line)]\n",
        "    for line in lines:\n",
        "        print(line)\n",
        "    print()  # Add an extra line for better readability"
      ],
      "metadata": {
        "colab": {
          "base_uri": "https://localhost:8080/"
        },
        "id": "RvroRdC2QO-c",
        "outputId": "cfc89280-6e66-4703-e253-f17cf2dd7767"
      },
      "execution_count": null,
      "outputs": [
        {
          "output_type": "stream",
          "name": "stdout",
          "text": [
            "\n",
            "Article 1:\n",
            "\n",
            "to enjoy additional benefits connect with us january 10 2014 07 19 pm updated no\n",
            "vember 16 2021 09 26 pm ist beijing comments share read later a file picture of \n",
            "entry gate at nathu la which allow the indian traders vehicles enter china india\n",
            " s trade deficit with china reached a record 31 4 billion in 2013 with two way t\n",
            "rade declining last year by 1 5 per cent on account of a sharp decline in indian\n",
            " exports new trade figures released in beijing on friday showed indian exports t\n",
            "o china last year totalled 17 03 billion a 9 4 per cent fall from last year out \n",
            "of 65 47 total bilateral trade according to figures released by the chinese gene\n",
            "ral administration of customs gac chinese exports to india in recent years large\n",
            "ly comprised of machinery were up 1 6 per cent friday s annual figures marked th\n",
            "e second straight year of declines highlighting the unexpected slowdown in rapid\n",
            "ly growing trade ties that came to be seen as one of the key drivers of a relati\n",
            "onship amid political uncertainties such as the long running boundary dispute bi\n",
            "lateral trade reached a record 74 billion in 2011 when china became india s larg\n",
            "est trading partner trade declined to 66 5 billion the following year on account\n",
            " of the global slowdown and a 20 per cent drop in indian exports the fall in exp\n",
            "orts was largely due to curbs on the export of iron ore which had emerged as ind\n",
            "ia s single biggest export to resource hungry china friday s data showed an over\n",
            "all recovery in china s foreign trade outlook recording 7 6 per cent year on yea\n",
            "r growth although missing the government s 8 per cent target despite the challen\n",
            "ge from grim global demand and an appreciating currency china s exports grew 7 9\n",
            " per cent to 2 21 trillion the gac said comments share exports trade balance imp\n",
            "orts back to top comments have to be in english and in full sentences they canno\n",
            "t be abusive or personal please abide by our community guidelines for posting yo\n",
            "ur comments we have migrated to a new commenting platform if you are already a r\n",
            "egistered user of the hindu and logged in you may continue to engage with our ar\n",
            "ticles if you do not have an account please register and login to post comments \n",
            "users can access their older comments by logging into their accounts on vuukle\n",
            "\n",
            "\n",
            "Article 2:\n",
            "\n",
            "saturday 25 nov 2023 one of the busiest weeks for india s initial public offer i\n",
            "po market ended on a euphoric note with investors pouring an unprecedented 2 6 l\n",
            "akh crore into five issues that aimed to collect 7 380 crore the government has \n",
            "advised social media and internet intermediaries to align the terms of service o\n",
            "n their platforms within the next seven days to alert users about the consequenc\n",
            "es of creating uploading and sharing prohibited information including deepfake c\n",
            "ontent or child sexual abuse material csam minister of state for electronics and\n",
            " it rajeev chandrasekhar said friday wedding planner mukta kapoor recently had a\n",
            " client request an arrangement of locally grown nargis flowers daffodils and she\n",
            " s not the only one there s a growing trend of indians opting for domestic produ\n",
            "ce as opposed to imported blooms india s increasing cultivation of exotic flower\n",
            "s such as orchids carnations and tulips is meeting the rising demand regulations\n",
            " are also keeping overseas supplies in check download the economic times news ap\n",
            "p to get daily market updates live business news unwinnable wars and the huge to\n",
            "ll it takes on economic humanitarian and military domains sbi bajaj fin axis ban\n",
            "k face the heat of unsecured lending norms what should investors do next tax tro\n",
            "ubles swiggy and zomato grapple with freshly served gst notice on delivery fee a\n",
            "s us eases sanctions on venezuela india finds its next russia to buy discounted \n",
            "oil youtube ustads and insta gurus novice stock traders turn to social media for\n",
            " guidance narayana hrudayalaya s shares are on a growth beat what s driving the \n",
            "hospital chain s optimism kerala four dead dozens injured in stampde tunnel resc\n",
            "ue bsnl sets up landline facility eam jaishankar on the power of narrative pm sh\n",
            "ares in flight view from tejas jet shotgun 650 motoverse edition at rs 4 25 lakh\n",
            " u kashi until 1 month says arnold dix h9n2 outbreak in china be careful rss peo\n",
            "ple working for cong owaisi biden says gaza hostages release only a start hamas \n",
            "releases 24 hostages on first day of truce powered by voltas beko 8 place settin\n",
            "gs table top dishwasher dt8s silver inbuilt heater lenovo ideapad slim 3 intel c\n",
            "ore i3 1115g4 11th gen 15 6 39 62cm fhd laptop 8gb 256gb ssd win 11 office 2021 \n",
            "3 month game pass arctic grey 1 65kg 82h803txin 35 off ifb 30 l convection micro\n",
            "wave oven 30sc4 metallic silver standard 29 off philips ac1215 20 air purifier l\n",
            "ong hepa filter life upto 17000 hours removes 99 97 airborne pollutants 4 stage \n",
            "filtration with true hepa filter white 23 off hul pureit eco water saver mineral\n",
            " ro uv mf as wall mounted counter top black 10l water purifier 44 off elica 60 c\n",
            "m 1200 m3 hr filterless autoclean kitchen chimney fl 600 slim hac ms nero touch \n",
            "motion sensor control black 56 off trending now hot on web in case you missed it\n",
            " top calculators top commodities top slideshow top prime articles private compan\n",
            "ies top searched companies top videos top story listing top definitions top mark\n",
            "et pages follow us on find this comment offensive choose your reason below and c\n",
            "lick on the report button this will alert our moderators to take action reason f\n",
            "or reporting your reason has been reported to the admin log in connect with will\n",
            " be displayed will not be displayed will be displayed worry not you re just a st\n",
            "ep away it seems like you re already an etprime member with login using your et \n",
            "prime credentials to enjoy all member benefits log out of your current logged in\n",
            " account and log in again using your et prime credentials to enjoy all member be\n",
            "nefits to read full story subscribe to et prime 34 per week billed annually at 2\n",
            "499 1749 super saver sale flat 30 off on et prime membership subscribe now credi\n",
            "t card mandatory you can cancel your subscription anytime subscribe now pay usin\n",
            "g netbanking upi debit card 399 month monthly plan billed amount 399 no trial pe\n",
            "riod 208 month save 49 yearly plan billed amount 2 499 15 days trial includes do\n",
            "cubay and timesprime membership 150 month save 63 2 year plan billed amount 3 59\n",
            "9 15 days trial includes docubay and timesprime membership quarterly 13 99 7 day\n",
            "s trial yearly save 40 0 33 99 15 days trial get et prime for just 2499 1749 yr \n",
            "offer exclusively for you save up to rs 700 on et prime membership offer exclusi\n",
            "vely for you get 1 year free with 1 and 2 year et prime membership offer exclusi\n",
            "vely for you get 1 year free with 1 and 2 year et prime membership offer exclusi\n",
            "vely for you get flat 40 off then 1749 for 1 year offer exclusively for you et p\n",
            "rime at 49 for 1 month then 1749 for 1 year special offer upto 2500 off on etpri\n",
            "me access the exclusive economic times stories editorial and expert opinion offe\n",
            "r exclusively for you save up to rs 700 on et prime membership offer exclusively\n",
            " for you get 1 year free with 1 and 2 year et prime membership offer exclusively\n",
            " for you get 1 year free with 1 and 2 year et prime membership offer exclusively\n",
            " for you get flat 40 off then 1749 for 1 year offer exclusively for you et prime\n",
            " at 49 for 1 month then 1749 for 1 year special offer upto 2500 off on etprime 9\n",
            "0 days prime access worth rs999 unlocked for you exclusive economic times storie\n",
            "s editorials expert opinion across 20 sectors stock analysis market research ind\n",
            "ustry trends on 4000 stocks get 1 year complimentary subscription of toi worth r\n",
            "s 799 stories you might be interested in\n",
            "\n",
            "\n",
            "Article 3:\n",
            "\n",
            "10 most affordable cities in india to buy a house most visited monuments in indi\n",
            "a the pros and cons of investing in value stocks investing in small cap stocks t\n",
            "op 10 tips for absolute beginners 10 ways to earn money online by selling physic\n",
            "al products richest cricket players across the world 10 things you didnâ t know \n",
            "about warren buffettâ s investment process priyanka chopra net worth know how ri\n",
            "ch is global actress top 10 benefits of investing in small cap stocks 15 best ta\n",
            "x saving schemes in india a sip calculator is a simple tool that allows individu\n",
            "als to get an idea of the returns on their this financial tool allows one to res\n",
            "olve their queries related to public provident fund account when investing in a \n",
            "fixed deposit the amount you deposit earns interest as per the prevailing the na\n",
            "tional pension system or nps is a measure to introduce a degree of financial sta\n",
            "bility mutual funds are one of the most incredible investment strategies that of\n",
            "fer better returns\n",
            "\n",
            "\n",
            "Article 4:\n",
            "\n",
            "to enjoy additional benefits connect with us january 13 2023 11 00 am updated 11\n",
            " 54 am ist beijing comments share read later photo used for representation purpo\n",
            "se only india s bilateral trade with china reached a record 135 98 billion in 20\n",
            "22 chinese customs data showed on january 13 2023 driven by surging indian impor\n",
            "ts of chinese goods that were up by more than 21 last year india s exports to ch\n",
            "ina however fell in 2022 driving an already significant trade deficit beyond the\n",
            " 100 billion mark for the first time figures released by the general administrat\n",
            "ion of customs gac in beijing on january 13 2023 showed two way trade was up by \n",
            "8 4 last year to 135 98 billion with india s imports accounting for 118 5 billio\n",
            "n up from 97 5 billion india s exports to china fell from 28 1 billion to 17 48 \n",
            "billion the trade deficit reached 101 02 billion up by 45 from 69 4 billion in 2\n",
            "021 china s total foreign trade in 2022 hit a record high up 7 7 to 6 25 trillio\n",
            "n exports were up 10 5 trade with asean china s biggest trading partner increase\n",
            "d 11 2 to 975 34 billion the eu ranked second among china s trading partners wit\n",
            "h trade up 2 4 to 847 32 billion followed by the u s with trade up 0 6 to 759 42\n",
            " billion for india trade last year has surpassed what was a record year in 2021 \n",
            "on account of a recovery in demand in india increasing imports of intermediate g\n",
            "oods and imports of new categories of goods such as medical supplies analysts ha\n",
            "ve seen india s growing imports from china as both a worry reflecting continued \n",
            "dependence for a range of key goods but also to some extent as a positive indica\n",
            "tor of the indian economy importing more intermediate goods the break up of impo\n",
            "rts in 2022 wasn t immediately released in the past couple of years india s bigg\n",
            "est imports from china included active pharmaceutical ingredients apis chemicals\n",
            " electrical and mechanical machinery auto components and medical supplies commen\n",
            "ts share india china china trade balance economy business and finance back to to\n",
            "p comments have to be in english and in full sentences they cannot be abusive or\n",
            " personal please abide by our community guidelines for posting your comments we \n",
            "have migrated to a new commenting platform if you are already a registered user \n",
            "of the hindu and logged in you may continue to engage with our articles if you d\n",
            "o not have an account please register and login to post comments users can acces\n",
            "s their older comments by logging into their accounts on vuukle\n",
            "\n"
          ]
        }
      ]
    },
    {
      "cell_type": "markdown",
      "source": [
        "This below code We are efficiently handles potential token length issues by breaking down the text into manageable chunks for sentiment analysis. It then provides sentiment labels and confidence scores for each chunk within each article.\n",
        "\n",
        "\n",
        "\n",
        "\n",
        "\n"
      ],
      "metadata": {
        "id": "vaeCqlOD21w8"
      }
    },
    {
      "cell_type": "markdown",
      "source": [
        "## Emotion Analysis"
      ],
      "metadata": {
        "id": "OrJBmnalJkBX"
      }
    },
    {
      "cell_type": "code",
      "source": [
        "# Emotion Analysis\n",
        "sentiment_analyzer = pipeline(\"sentiment-analysis\")\n",
        "\n",
        "# Sentiment Analysis for Each Chunk\n",
        "for i, article in enumerate(cleaned_articles):\n",
        "    chunk_size = 512  # Adjust as needed\n",
        "    chunks = [article[j:j+chunk_size] for j in range(0, len(article), chunk_size)]\n",
        "\n",
        "    print(f\"\\nEmotions for Article {i + 1}:\")\n",
        "    for chunk_num, chunk in enumerate(chunks):\n",
        "        emotions_chunk = sentiment_analyzer(chunk)\n",
        "        print(f\"Chunk {chunk_num + 1}: {emotions_chunk[0]['label']} with confidence {emotions_chunk[0]['score']}\")"
      ],
      "metadata": {
        "id": "0AnrhXmFUnGk",
        "colab": {
          "base_uri": "https://localhost:8080/"
        },
        "outputId": "e2583823-b311-41ea-8c15-14116351dc03"
      },
      "execution_count": null,
      "outputs": [
        {
          "output_type": "stream",
          "name": "stderr",
          "text": [
            "No model was supplied, defaulted to distilbert-base-uncased-finetuned-sst-2-english and revision af0f99b (https://huggingface.co/distilbert-base-uncased-finetuned-sst-2-english).\n",
            "Using a pipeline without specifying a model name and revision in production is not recommended.\n"
          ]
        },
        {
          "output_type": "stream",
          "name": "stdout",
          "text": [
            "\n",
            "Emotions for Article 1:\n",
            "Chunk 1: NEGATIVE with confidence 0.9872323274612427\n",
            "Chunk 2: NEGATIVE with confidence 0.9961349964141846\n",
            "Chunk 3: POSITIVE with confidence 0.9075860381126404\n",
            "Chunk 4: NEGATIVE with confidence 0.9919589757919312\n",
            "Chunk 5: NEGATIVE with confidence 0.9746127724647522\n",
            "\n",
            "Emotions for Article 2:\n",
            "Chunk 1: NEGATIVE with confidence 0.9666159152984619\n",
            "Chunk 2: POSITIVE with confidence 0.9543963074684143\n",
            "Chunk 3: NEGATIVE with confidence 0.9927135109901428\n",
            "Chunk 4: POSITIVE with confidence 0.8304776549339294\n",
            "Chunk 5: NEGATIVE with confidence 0.9847776889801025\n",
            "Chunk 6: NEGATIVE with confidence 0.9987768530845642\n",
            "Chunk 7: NEGATIVE with confidence 0.9984546899795532\n",
            "Chunk 8: NEGATIVE with confidence 0.9913115501403809\n",
            "Chunk 9: NEGATIVE with confidence 0.9810521602630615\n",
            "Chunk 10: NEGATIVE with confidence 0.9853445887565613\n",
            "Chunk 11: POSITIVE with confidence 0.8221780061721802\n",
            "\n",
            "Emotions for Article 3:\n",
            "Chunk 1: POSITIVE with confidence 0.9988841414451599\n",
            "Chunk 2: POSITIVE with confidence 0.9955568909645081\n",
            "\n",
            "Emotions for Article 4:\n",
            "Chunk 1: NEGATIVE with confidence 0.9930965304374695\n",
            "Chunk 2: NEGATIVE with confidence 0.9752012491226196\n",
            "Chunk 3: POSITIVE with confidence 0.7095745801925659\n",
            "Chunk 4: POSITIVE with confidence 0.5535345673561096\n",
            "Chunk 5: NEGATIVE with confidence 0.9944536089897156\n"
          ]
        }
      ]
    },
    {
      "cell_type": "markdown",
      "source": [
        "The provided output shows the sentiment analysis results for each article broken down into chunks. Each chunk is labeled as either positive, negative, or neutral, accompanied by a confidence score indicating the model's certainty in its prediction.\n",
        "\n",
        "For Article 1, the sentiment fluctuates across chunks, with the initial segments expressing a strong negative sentiment, followed by a positive tone in Chunk 3. However, subsequent chunks revert to a negative sentiment. The varying emotions suggest a mixed perspective or narrative in Article 1, with moments of negativity interspersed with a positive section.\n",
        "\n",
        "Article 2 exhibits a similar pattern, with an alternating sentiment between negative and positive across its chunks. The sentiment changes are notable, indicating potential shifts in the subject matter or the author's stance. Interestingly, Chunk 11 introduces a positive sentiment, providing a nuanced emotional context to the article.\n",
        "\n",
        "Article 3 maintains a consistently positive sentiment throughout its chunks, suggesting a generally optimistic or affirmative tone in the content. This stability in positive emotions indicates a cohesive and positive narrative or discussion in Article 3.\n",
        "\n",
        "In contrast, Article 4 presents a more complex emotional trajectory. The initial chunks convey a strong negative sentiment, which gradually shifts as the article progresses. The latter chunks introduce positive sentiments, indicating a potential evolution or change in the narrative tone within Article 4.\n",
        "\n",
        "In summary, the sentiment analysis highlights the emotional dynamics within each article, showcasing the variation and nuances in the expression of sentiments across different sections or themes. These emotional insights can provide a deeper understanding of the subjective tones present in the articles, aiding in the interpretation of the overall sentiment conveyed by each piece."
      ],
      "metadata": {
        "id": "gka2zZVR3McS"
      }
    },
    {
      "cell_type": "code",
      "source": [
        "from transformers import AutoTokenizer, AutoModelForSeq2SeqLM"
      ],
      "metadata": {
        "id": "2jUqUIWD1560"
      },
      "execution_count": null,
      "outputs": []
    },
    {
      "cell_type": "markdown",
      "source": [
        "### Sentiment analysis for the entire text using the Longformer for sequence-to-sequence language modeling (LLM) model from the transformers library."
      ],
      "metadata": {
        "id": "mNCvWE9416Sn"
      }
    },
    {
      "cell_type": "code",
      "source": [
        "# Sentiment Analysis for Entire Text\n",
        "from transformers import LongformerTokenizer, LongformerForSequenceClassification, pipeline\n",
        "\n",
        "# Sentiment Analysis for Entire Text\n",
        "llm_tokenizer = LongformerTokenizer.from_pretrained(\"allenai/longformer-base-4096\")\n",
        "llm_model = LongformerForSequenceClassification.from_pretrained(\"allenai/longformer-base-4096\")\n",
        "\n",
        "def get_sentiment_llm(text):\n",
        "    inputs = llm_tokenizer(text, return_tensors=\"pt\", max_length=4096, truncation=True)\n",
        "    outputs = llm_model(**inputs)\n",
        "    logits = outputs.logits\n",
        "    sentiment_label = \"positive\" if logits.argmax() == 2 else \"negative\" if logits.argmax() == 0 else \"neutral\"\n",
        "    return sentiment_label"
      ],
      "metadata": {
        "colab": {
          "base_uri": "https://localhost:8080/"
        },
        "id": "vbVZwUFI1vO2",
        "outputId": "1c57d824-0e3d-4f28-c47e-fbb406fb61dc"
      },
      "execution_count": null,
      "outputs": [
        {
          "output_type": "stream",
          "name": "stderr",
          "text": [
            "Some weights of LongformerForSequenceClassification were not initialized from the model checkpoint at allenai/longformer-base-4096 and are newly initialized: ['classifier.dense.weight', 'classifier.out_proj.weight', 'classifier.out_proj.bias', 'classifier.dense.bias']\n",
            "You should probably TRAIN this model on a down-stream task to be able to use it for predictions and inference.\n"
          ]
        }
      ]
    },
    {
      "cell_type": "code",
      "source": [
        "entire_text_sentiment = get_sentiment_llm(corpus)\n",
        "\n",
        "print(\"\\nSentiment for Entire Text:\", entire_text_sentiment)"
      ],
      "metadata": {
        "colab": {
          "base_uri": "https://localhost:8080/"
        },
        "id": "g2qGQ1nR3Qbp",
        "outputId": "0ccaad18-30db-4bde-fdb6-ba336dffafde"
      },
      "execution_count": null,
      "outputs": [
        {
          "output_type": "stream",
          "name": "stdout",
          "text": [
            "\n",
            "Sentiment for Entire Text: neutral\n"
          ]
        }
      ]
    },
    {
      "cell_type": "markdown",
      "source": [
        "\n",
        "The output \"Sentiment for Entire Text: neutral\" indicates that, according to the Longformer model's sentiment analysis, the overall sentiment of the entire text (corpus) is considered neutral."
      ],
      "metadata": {
        "id": "ciqpX7Al35ci"
      }
    }
  ]
}